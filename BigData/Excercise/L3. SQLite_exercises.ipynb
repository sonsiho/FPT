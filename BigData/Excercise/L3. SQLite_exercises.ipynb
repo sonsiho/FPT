{
  "nbformat": 4,
  "nbformat_minor": 0,
  "metadata": {
    "colab": {
      "provenance": [],
      "collapsed_sections": []
    },
    "kernelspec": {
      "name": "python3",
      "display_name": "Python 3"
    },
    "language_info": {
      "name": "python"
    }
  },
  "cells": [
    {
      "cell_type": "code",
      "source": [
        "%load_ext sql\n",
        "%sql sqlite://"
      ],
      "metadata": {
        "colab": {
          "base_uri": "https://localhost:8080/",
          "height": 36
        },
        "id": "qhPpxdiZkZzU",
        "outputId": "e25fdccb-118f-4bb5-f04c-bb254c07c069"
      },
      "execution_count": 1,
      "outputs": [
        {
          "output_type": "execute_result",
          "data": {
            "text/plain": [
              "'Connected: @None'"
            ],
            "application/vnd.google.colaboratory.intrinsic+json": {
              "type": "string"
            }
          },
          "metadata": {},
          "execution_count": 1
        }
      ]
    },
    {
      "cell_type": "markdown",
      "metadata": {
        "id": "uZ-S5-SLBAUH"
      },
      "source": [
        "# For chinook database"
      ]
    },
    {
      "cell_type": "code",
      "source": [
        "from google.colab import drive\n",
        "drive.mount('/content/gdrive/')"
      ],
      "metadata": {
        "colab": {
          "base_uri": "https://localhost:8080/"
        },
        "id": "IVj-kkzPkgkz",
        "outputId": "e492dfec-65d1-4fe9-8af0-ea94b6bbfb31"
      },
      "execution_count": 2,
      "outputs": [
        {
          "output_type": "stream",
          "name": "stdout",
          "text": [
            "Mounted at /content/gdrive/\n"
          ]
        }
      ]
    },
    {
      "cell_type": "code",
      "source": [
        "import os\n",
        "os.chdir('/content/gdrive/MyDrive/Data/')"
      ],
      "metadata": {
        "id": "TXS3onUEkvgp"
      },
      "execution_count": 3,
      "outputs": []
    },
    {
      "cell_type": "code",
      "source": [
        "!ls"
      ],
      "metadata": {
        "colab": {
          "base_uri": "https://localhost:8080/"
        },
        "id": "8wUZRMvkrUSX",
        "outputId": "f85b5d7d-ac2a-4a0f-9ba7-d4d5305cd7db"
      },
      "execution_count": 19,
      "outputs": [
        {
          "output_type": "stream",
          "name": "stdout",
          "text": [
            "cat_to_name.json  chinook.db  listings.csv  music.db\n"
          ]
        }
      ]
    },
    {
      "cell_type": "code",
      "source": [
        "import sqlite3\n",
        "con = sqlite3.connect('chinook.db')\n",
        "c = con.cursor()"
      ],
      "metadata": {
        "id": "lCrx0rJ4k3fR"
      },
      "execution_count": 16,
      "outputs": []
    },
    {
      "cell_type": "code",
      "source": [
        "def printc(c):\n",
        "  for row in c.fetchall():\n",
        "    print(row)"
      ],
      "metadata": {
        "id": "Ow9AWnI9r1Dp"
      },
      "execution_count": 21,
      "outputs": []
    },
    {
      "cell_type": "markdown",
      "metadata": {
        "id": "pmxJDoIrBFdN"
      },
      "source": [
        "#### 1) Count all the tables"
      ]
    },
    {
      "cell_type": "code",
      "source": [],
      "metadata": {
        "id": "1pDdRX6vr85v"
      },
      "execution_count": null,
      "outputs": []
    },
    {
      "cell_type": "markdown",
      "metadata": {
        "id": "Feb_EXlDBR6_"
      },
      "source": [
        "#### 2) List out all media types"
      ]
    },
    {
      "cell_type": "code",
      "metadata": {
        "id": "02_KCFF9BSHh",
        "colab": {
          "base_uri": "https://localhost:8080/"
        },
        "outputId": "ffab8872-c185-4e56-e3b9-78adcb15662d"
      },
      "source": [
        "c.execute('SELECT * FROM media_type')\n",
        "\n",
        "printc(c)"
      ],
      "execution_count": 22,
      "outputs": [
        {
          "output_type": "stream",
          "name": "stdout",
          "text": [
            "(1, 'MPEG audio file')\n",
            "(2, 'Protected AAC audio file')\n",
            "(3, 'Protected MPEG-4 video file')\n",
            "(4, 'Purchased AAC audio file')\n",
            "(5, 'AAC audio file')\n"
          ]
        }
      ]
    },
    {
      "cell_type": "markdown",
      "metadata": {
        "id": "UiCNP4qgBXC0"
      },
      "source": [
        "#### 3) Count all tracks with each media type"
      ]
    },
    {
      "cell_type": "code",
      "metadata": {
        "id": "NP611E-5BXUy",
        "colab": {
          "base_uri": "https://localhost:8080/"
        },
        "outputId": "b28c4cc5-d193-4261-9a06-7b7e234172f6"
      },
      "source": [
        "c.execute('SELECT m.name, COUNT(t.media_type_id) \\\n",
        "           FROM media_type m, track t \\\n",
        "           WHERE m.media_type_id = t.media_type_id \\\n",
        "           GROUP BY t.media_type_id')\n",
        "printc(c)"
      ],
      "execution_count": 24,
      "outputs": [
        {
          "output_type": "stream",
          "name": "stdout",
          "text": [
            "('MPEG audio file', 3034)\n",
            "('Protected AAC audio file', 237)\n",
            "('Protected MPEG-4 video file', 214)\n",
            "('Purchased AAC audio file', 7)\n",
            "('AAC audio file', 11)\n"
          ]
        }
      ]
    },
    {
      "cell_type": "markdown",
      "metadata": {
        "id": "gme9WuYUBj1B"
      },
      "source": [
        "#### 4) Determine the maximum amount of items on a single invoice."
      ]
    },
    {
      "cell_type": "code",
      "metadata": {
        "id": "w-rRwHg4Bj-9",
        "colab": {
          "base_uri": "https://localhost:8080/"
        },
        "outputId": "741451ed-52e3-42bc-83c8-4894de56b096"
      },
      "source": [
        "c.execute('SELECT invoice_id, MAX(quantity) FROM (SELECT invoice_id, COUNT(quantity) AS quantity FROM invoice_line GROUP BY invoice_id)')\n",
        "printc(c)"
      ],
      "execution_count": 30,
      "outputs": [
        {
          "output_type": "stream",
          "name": "stdout",
          "text": [
            "(183, 24)\n"
          ]
        }
      ]
    },
    {
      "cell_type": "markdown",
      "metadata": {
        "id": "3v7rwYeZA5Lk"
      },
      "source": [
        "# For music database"
      ]
    },
    {
      "cell_type": "code",
      "source": [
        "con = sqlite3.connect('music.db')\n",
        "c = con.cursor()"
      ],
      "metadata": {
        "id": "SVJEXZnUwBTW"
      },
      "execution_count": 31,
      "outputs": []
    },
    {
      "cell_type": "markdown",
      "metadata": {
        "id": "EryJ8DcY8qKq"
      },
      "source": [
        "#### 1) Let select the titles of all songs from the album \"Forbidden\"."
      ]
    },
    {
      "cell_type": "code",
      "metadata": {
        "id": "pcA5U4nF8n6b",
        "colab": {
          "base_uri": "https://localhost:8080/"
        },
        "outputId": "b07f1496-f5ff-4fd5-eaad-2d0fde36d8d8"
      },
      "source": [
        "c.execute('select s.title from songs s, albums a where s.album = a._id and a.name = \"Forbidden\"')\n",
        "printc(c)"
      ],
      "execution_count": 34,
      "outputs": [
        {
          "output_type": "stream",
          "name": "stdout",
          "text": [
            "('The Illusion of Power',)\n",
            "('Sick and Tired',)\n",
            "(\"Can't Get Close Enough\",)\n",
            "('Forbidden',)\n",
            "('Shaking Off the Chains',)\n",
            "('Get a Grip',)\n",
            "('Kiss of Death',)\n",
            "('Guilty as Hell',)\n",
            "('Rusty Angels',)\n",
            "(\"I Won't Cry for You\",)\n"
          ]
        }
      ]
    },
    {
      "cell_type": "markdown",
      "metadata": {
        "id": "2cmhYyNp8_eY"
      },
      "source": [
        "#### 2) Now repeat the above query but in this time, let display the songs in track order. You may want to include the track number in the output to verify that it worked fine."
      ]
    },
    {
      "cell_type": "code",
      "metadata": {
        "id": "cn2be7I98_r6",
        "colab": {
          "base_uri": "https://localhost:8080/"
        },
        "outputId": "9668ea77-7c56-4c00-f82f-8e99a9180357"
      },
      "source": [
        "c.execute('select s.track, s.title from songs s, albums a where s.album = a._id and a.name = \"Forbidden\" order by s.track asc')\n",
        "printc(c)"
      ],
      "execution_count": 33,
      "outputs": [
        {
          "output_type": "stream",
          "name": "stdout",
          "text": [
            "(1, 'The Illusion of Power')\n",
            "(2, 'Get a Grip')\n",
            "(3, \"Can't Get Close Enough\")\n",
            "(4, 'Shaking Off the Chains')\n",
            "(5, \"I Won't Cry for You\")\n",
            "(6, 'Guilty as Hell')\n",
            "(7, 'Sick and Tired')\n",
            "(8, 'Rusty Angels')\n",
            "(9, 'Forbidden')\n",
            "(10, 'Kiss of Death')\n"
          ]
        }
      ]
    },
    {
      "cell_type": "markdown",
      "metadata": {
        "id": "vVeYiRJP9XLk"
      },
      "source": [
        "#### 3) Please extract all songs for the band \"Deep Purple\"."
      ]
    },
    {
      "cell_type": "code",
      "metadata": {
        "id": "-DstczSI9XWn",
        "colab": {
          "base_uri": "https://localhost:8080/"
        },
        "outputId": "b745de42-04ce-4242-8228-57cf744165fb"
      },
      "source": [
        "c.execute('select s.title from songs s, artists ar, albums al where s.album = al._id and al.artist = ar._id and ar.name = \"Deep Purple\"')\n",
        "printc(c)"
      ],
      "execution_count": 36,
      "outputs": [
        {
          "output_type": "stream",
          "name": "stdout",
          "text": [
            "('Love Help Me (2000 Digital Remaster)',)\n",
            "('Might Just Take Your Life',)\n",
            "('And The Address (2000 Digital Remaster)',)\n",
            "('Fireball (Take 1 - Instrumental)',)\n",
            "(\"Maybe I'm a Leo\",)\n",
            "('Fireball',)\n",
            "('No One Came',)\n",
            "('Mistreated',)\n",
            "('Smoke On The Water',)\n",
            "('Mary Long',)\n",
            "('Rat Bat Blue',)\n",
            "(\"What's Goin' On Here\",)\n",
            "('I Need Love',)\n",
            "('Studio Chat',)\n",
            "('Hush',)\n",
            "('Shield',)\n",
            "('April (2000 Digital Remaster)',)\n",
            "('Wring That Neck',)\n",
            "('When a Blind Man Cries (B-Side)',)\n",
            "('Bird Has Flown (2000 Digital Remaster)',)\n",
            "('Highway Star',)\n",
            "('Pictures Of Home',)\n",
            "('Fools',)\n",
            "('Lazy',)\n",
            "('Smoke On The Water',)\n",
            "('You Fool No One',)\n",
            "('Speed King (Piano Version)',)\n",
            "('Black Night',)\n",
            "('Slow Train (Album Outtake)',)\n",
            "('Dealer',)\n",
            "('Mistreated',)\n",
            "('Pictures of Home',)\n",
            "(\"Space Truckin'\",)\n",
            "(\"Our Lady ('99 Remix)\",)\n",
            "('Child In Time',)\n",
            "('The Painter (2000 Digital Remaster)',)\n",
            "('Lady Luck',)\n",
            "('Sail Away',)\n",
            "('Bloodsucker',)\n",
            "('Painted Horse (studio out-take)',)\n",
            "(\"Prelude_ Happiness_I'm So Glad (Medley) (2000 Digital R\",)\n",
            "(\"Woman From Tokyo ('99 Remix)\",)\n",
            "('Black Night (Unedited Roger Glover Remix)',)\n",
            "('Hey Joe (BBC Top Gear Session)',)\n",
            "('Help (Alternate Take)',)\n",
            "('Listen Learn Read On',)\n",
            "(\"Love Don't Mean A Thing\",)\n",
            "(\"I'm Alone (B-Side)\",)\n",
            "('Burn',)\n",
            "(\"Space Truckin'\",)\n",
            "('The Painter (BBC Radio Session)',)\n",
            "('Studio Chat',)\n",
            "('High Ball Shooter',)\n",
            "('Woman From Tokyo',)\n",
            "('You Fool No One',)\n",
            "('Studio Chat',)\n",
            "('The Bird Has Flown (Alternate A-Side Version) (1998 Dig',)\n",
            "('Third Movement- Vivace - Presto',)\n",
            "('Woman From Tokyo (alt.bridge)',)\n",
            "('River Deep Mountain High',)\n",
            "('Living Wreck',)\n",
            "('Shadows',)\n",
            "('Rat Bat Blue (writing session)',)\n",
            "('Studio Chat',)\n",
            "(\"'A' 200\",)\n",
            "('Studio Chat',)\n",
            "('Jam Stew (Unreleased Instrumental)',)\n",
            "('Drifter',)\n",
            "('Lady Double Dealer',)\n",
            "('Super Trouper',)\n",
            "('No One Came (Remix 1996)',)\n",
            "('Exposition - We Can Work It Out',)\n",
            "('Lalena (2000 Digital Remaster)',)\n",
            "('Speed King',)\n",
            "('Lay Down Stay Down',)\n",
            "('Into The Fire',)\n",
            "('Flight Of The Rat (Roger Glover Remix)',)\n",
            "('Strange Kind Of Woman (A-Side Remix 1996)',)\n",
            "(\"You Can't Do It Right\",)\n",
            "('Lalena (BBC Radio Session)',)\n",
            "('The Mule (Drum Solo)',)\n",
            "('Emmaretta (1998 Digital Remaster)',)\n",
            "('Backwards Piano',)\n",
            "('Lazy (Quadrophonic Mix)',)\n",
            "('No No No',)\n",
            "('Speed King',)\n",
            "('Black Night (Original Single Version)',)\n",
            "('Hey Joe (2000 Digital Remaster)',)\n",
            "('Smooth Dancer',)\n",
            "('Love Child',)\n",
            "('The Gypsy',)\n",
            "('Lazy',)\n",
            "(\"Anyone's Daughter\",)\n",
            "('First Day Jam (instrumental)',)\n",
            "('The Noise Abatement Society Tapes',)\n",
            "('One More Rainy Day (2000 Digital Remaster)',)\n",
            "('Stormbringer',)\n",
            "('First Movement- Moderato - Allegro',)\n",
            "('Child In Time',)\n",
            "('Lady Double Dealer',)\n",
            "('Never Before',)\n",
            "(\"Demon's Eye (Remix 1996)\",)\n",
            "('Wring That Neck',)\n",
            "('Fault Line (2000 Digital Remaster)',)\n",
            "('You Keep On Moving',)\n",
            "('Strange Kind Of Woman',)\n",
            "(\"It's All Over (BBC Top Gear Session Bonus Track)\",)\n",
            "('Second Movement- Andante',)\n",
            "('Child In Time',)\n",
            "('Cry Free (Roger Glover Remix)',)\n",
            "('Hey Bop A Re Bop (BBC Top Gear Session Bonus Track)',)\n",
            "('Freedom (Album Outtake)',)\n",
            "(\"Why Didn't Rosemary_ (1999 Digital Remaster)\",)\n",
            "('Place In Line',)\n",
            "(\"Maybe I'm a Leo (Quadrophonic Mix)\",)\n",
            "('Studio Chat',)\n",
            "(\"Rat Bat Blue ('99 Remix)\",)\n",
            "('Wring That Neck (BBC Top Gear Session Bonus Track)',)\n",
            "('Encore- Third Movement- Vivace - Presto (Part)',)\n",
            "('Love Help Me (Instrumental Version)',)\n",
            "('Flight Of The Rat',)\n",
            "('Playground (Remixed Instrumental Studio Out Take Bonus Track)',)\n",
            "('[Intro]',)\n",
            "('Smoke On The Water',)\n",
            "(\"Gettin' Tighter\",)\n",
            "(\"Demon's Eye\",)\n",
            "(\"Maybe I'm A Leo\",)\n",
            "('Stormbringer',)\n",
            "('When A Blind Man Cries',)\n",
            "('Speed King (Roger Glover Remix)',)\n",
            "('Anthem',)\n",
            "('Oh No No No (Studio Out Take Bonus Track)',)\n",
            "('Burn',)\n",
            "('Soldier Of Fortune',)\n",
            "(\"This Time Around Owed To 'G' (Instrumental)\",)\n",
            "('Hush (Live US TV)',)\n",
            "('Lazy',)\n",
            "('Mandrake Root (1998 Digital Remaster)',)\n",
            "(\"Comin' Home\",)\n",
            "('Hold On',)\n",
            "('Highway Star',)\n",
            "('Kentucky Woman',)\n",
            "('Hush (1998 Digital Remaster)',)\n",
            "('Highway Star',)\n",
            "('Blind (2000 Digital Remaster)',)\n",
            "('Our Lady',)\n",
            "('Never Before',)\n",
            "(\"Hard Lovin' Man\",)\n",
            "('Holy Man',)\n",
            "('Emmaretta (BBC Top Gear Session)',)\n",
            "('Help (2000 Digital Remaster)',)\n",
            "('Chasing Shadows (2000 Digital Remaster)',)\n",
            "('The Mule',)\n",
            "('Lucille',)\n",
            "(\"Space Truckin'\",)\n"
          ]
        }
      ]
    },
    {
      "cell_type": "markdown",
      "metadata": {
        "id": "3SV1KNi_9fb3"
      },
      "source": [
        "#### 4) Rename the band \"Mehitabel\" to \"Mehitabel_MODIFIED\". \n",
        "\n",
        "Hint: SET artists.name won't work, you just need to specify name."
      ]
    },
    {
      "cell_type": "code",
      "metadata": {
        "id": "k--nm6Xs9flP"
      },
      "source": [
        "c.execute('update artists set name = \"Mehitabel_MODIFIED\" where name = \"Mehitabel\"')\n",
        "printc(c)"
      ],
      "execution_count": 40,
      "outputs": []
    },
    {
      "cell_type": "markdown",
      "metadata": {
        "id": "-FAwU0QQ96Wq"
      },
      "source": [
        "#### 5) Check that the record was correctly renamed."
      ]
    },
    {
      "cell_type": "code",
      "metadata": {
        "id": "gNcsm7Zi96mx",
        "colab": {
          "base_uri": "https://localhost:8080/"
        },
        "outputId": "249f5eaf-2fee-4a9d-db16-b845c76afa9b"
      },
      "source": [
        "c.execute('select * from artists where name = \"Mehitabel_MODIFIED\"')\n",
        "printc(c)"
      ],
      "execution_count": 42,
      "outputs": [
        {
          "output_type": "stream",
          "name": "stdout",
          "text": [
            "(3, 'Mehitabel_MODIFIED')\n"
          ]
        }
      ]
    },
    {
      "cell_type": "markdown",
      "metadata": {
        "id": "P-Z3FlJw9_gB"
      },
      "source": [
        "#### 6) Let select the titles of all the songs by Aerosmith in the alphabetical order. Include only the title in the output."
      ]
    },
    {
      "cell_type": "code",
      "metadata": {
        "id": "Uv98jq5f9_tj",
        "colab": {
          "base_uri": "https://localhost:8080/"
        },
        "outputId": "ed50be5c-aafc-4b81-92d5-a8453a278985"
      },
      "source": [
        "c.execute('select s.title from songs s, artists ar, albums al where s.album = al._id and al.artist = ar._id and ar.name = \"Aerosmith\" order by s.title asc')\n",
        "printc(c)"
      ],
      "execution_count": 43,
      "outputs": [
        {
          "output_type": "stream",
          "name": "stdout",
          "text": [
            "('(Dulcimer Stomp) The Other Side',)\n",
            "('(Going Down) Love In An Elevator',)\n",
            "('(Hoodoo) Voodoo Medicine Man',)\n",
            "(\"(Water Song) Janie's Got A Gun\",)\n",
            "(\"Adam's Apple\",)\n",
            "(\"Adam's Apple\",)\n",
            "(\"Ain't That A Bitch\",)\n",
            "('Amazing',)\n",
            "('Amazing',)\n",
            "('Angel',)\n",
            "('Angel',)\n",
            "('Attitude Adjustment',)\n",
            "('Avant Garden',)\n",
            "('Back In The Saddle',)\n",
            "('Beyond Beautiful',)\n",
            "('Big Ten Inch Record',)\n",
            "('Blind Man',)\n",
            "('Bone To Bone (Coney Island White Fish Boy)',)\n",
            "('Boogie Man',)\n",
            "(\"Can't Stop Messin'\",)\n",
            "('Cheese Cake',)\n",
            "('Chip Away The Stone',)\n",
            "('Chip Away The Stone',)\n",
            "('Chiquita',)\n",
            "('Come Together',)\n",
            "('Crash',)\n",
            "('Crazy',)\n",
            "('Crazy',)\n",
            "('Critical Mass',)\n",
            "(\"Cryin'\",)\n",
            "(\"Cryin'\",)\n",
            "('Darkness',)\n",
            "('Deuces Are Wild',)\n",
            "(\"Don't Get Mad Get Even\",)\n",
            "('Dream On',)\n",
            "('Dream On',)\n",
            "('Drop Dead Gorgeous',)\n",
            "('Dude (Looks Like A Lady)',)\n",
            "('Dude (Looks Like A Lady)',)\n",
            "('Dude (Looks Like A Lady)- live',)\n",
            "('Eat The Rich',)\n",
            "('Eat The Rich',)\n",
            "('F.I.N.E.',)\n",
            "('Face',)\n",
            "('Fallen Angels',)\n",
            "('Falling In Love (Is Hard On The Knees)',)\n",
            "('Falling Off',)\n",
            "('Fever',)\n",
            "('Flesh',)\n",
            "('Fly Away From Here',)\n",
            "('Full Circle',)\n",
            "('Get A Grip',)\n",
            "('Girl Keeps Coming Apart',)\n",
            "('Gotta Love It',)\n",
            "('Gypsy Boots',)\n",
            "('Hangman Jury',)\n",
            "(\"Heart's Done Time\",)\n",
            "('Hole In My Soul',)\n",
            "(\"I Ain't Got You\",)\n",
            "(\"I'm Down\",)\n",
            "('Intro',)\n",
            "('Jaded',)\n",
            "('Jailbait',)\n",
            "(\"Janie's Got A Gun\",)\n",
            "('Just Push Play',)\n",
            "('Kiss Your Past Good-Bye',)\n",
            "('Last Child',)\n",
            "('Let The Music do the Talking',)\n",
            "('Lick and a Promise',)\n",
            "('Light Inside',)\n",
            "('Line Up',)\n",
            "(\"Livin' On The Edge\",)\n",
            "(\"Livin' On The Edge\",)\n",
            "('Lord Of The Thighs',)\n",
            "('Lord Of The Thighs',)\n",
            "('Lord Of The Thighs',)\n",
            "('Love In An Elevator',)\n",
            "('Luv Lies',)\n",
            "('Magic Touch',)\n",
            "('Make It',)\n",
            "('Mama Kin',)\n",
            "('Mama Kin',)\n",
            "('Mama Kin',)\n",
            "('Mia',)\n",
            "('Monkey On My Back',)\n",
            "('Mother Popcorn Draw The Line',)\n",
            "(\"Movin' Out\",)\n",
            "('My Fist Your Face',)\n",
            "('My Girl',)\n",
            "('Nine Lives',)\n",
            "('No More No More',)\n",
            "('No Surprize',)\n",
            "('No Surprize',)\n",
            "(\"Nobody's Fault\",)\n",
            "('One Way Street',)\n",
            "('Outta Your Head',)\n",
            "(\"Pandora's Box\",)\n",
            "('Permanent Vacation',)\n",
            "('Pink',)\n",
            "('Rag Doll',)\n",
            "('Rag Doll',)\n",
            "('Rats in the Cellar',)\n",
            "('Reefer Head Woman',)\n",
            "('Remember (Walking In The Sand)',)\n",
            "('Round And Round',)\n",
            "('Round And Round',)\n",
            "('S.O.S.',)\n",
            "('S.O.S. (Too Bad)',)\n",
            "('Same Old Song And Dance',)\n",
            "('Seasons Of Wither',)\n",
            "('Shame On You',)\n",
            "(\"She's On Fire\",)\n",
            "('Shela',)\n",
            "('Shut Up And Dance',)\n",
            "('Sick As A Dog',)\n",
            "('Sight For Sore Eyes',)\n",
            "('Simoriah',)\n",
            "('Somebody',)\n",
            "(\"Something's Gotta Give\",)\n",
            "('Spaced',)\n",
            "('St. John',)\n",
            "('Sunshine',)\n",
            "('Sweet Emotion',)\n",
            "('Sweet Emotion',)\n",
            "('Taste Of India',)\n",
            "('The Farm',)\n",
            "('The Movie',)\n",
            "('The Other Side',)\n",
            "('The Reason A dog',)\n",
            "('The hop',)\n",
            "('Think About It',)\n",
            "('Three Mile Smile',)\n",
            "('Toys In The Attic',)\n",
            "('Toys In The Attic',)\n",
            "(\"Train Kept A Rollin'\",)\n",
            "(\"Train Kept A Rollin'\",)\n",
            "(\"Train Kept A Rollin'\",)\n",
            "(\"Trip Hoppin'\",)\n",
            "('Uncle Salty',)\n",
            "('Under My Skin',)\n",
            "('Walk On Down',)\n",
            "('Walk On Water',)\n",
            "('Walk This Way',)\n",
            "('Walk This Way',)\n",
            "(\"Walkin' The Dog\",)\n",
            "('What It Takes',)\n",
            "('What It Takes',)\n",
            "('Woman Of The World',)\n",
            "('Write Me',)\n",
            "('You See Me Crying',)\n",
            "('Young Lust',)\n"
          ]
        }
      ]
    },
    {
      "cell_type": "markdown",
      "metadata": {
        "id": "NfOEwZp3-MuM"
      },
      "source": [
        "#### 7) Replace the column that you used in the previous answer with count(title) to get only a count of the number of songs."
      ]
    },
    {
      "cell_type": "code",
      "metadata": {
        "id": "AARljHIi-M3i",
        "colab": {
          "base_uri": "https://localhost:8080/"
        },
        "outputId": "f6457ea5-0969-4ba9-bdf4-5d74abf15ff7"
      },
      "source": [
        "c.execute('select count(s.title) from songs s, artists ar, albums al where s.album = al._id and al.artist = ar._id and ar.name = \"Aerosmith\"')\n",
        "printc(c)"
      ],
      "execution_count": 45,
      "outputs": [
        {
          "output_type": "stream",
          "name": "stdout",
          "text": [
            "(151,)\n"
          ]
        }
      ]
    },
    {
      "cell_type": "markdown",
      "metadata": {
        "id": "3H93zc_i-c-I"
      },
      "source": [
        "#### 8) Get the same list as from question 6 but without any duplicates."
      ]
    },
    {
      "cell_type": "code",
      "metadata": {
        "id": "mlkiLR70-dKC",
        "colab": {
          "base_uri": "https://localhost:8080/"
        },
        "outputId": "bdf640c9-08ff-4c91-89ac-fbee07609178"
      },
      "source": [
        "c.execute('select distinct s.title from songs s, artists ar, albums al where s.album = al._id and al.artist = ar._id and ar.name = \"Aerosmith\" order by s.title asc')\n",
        "printc(c)"
      ],
      "execution_count": 47,
      "outputs": [
        {
          "output_type": "stream",
          "name": "stdout",
          "text": [
            "('(Dulcimer Stomp) The Other Side',)\n",
            "('(Going Down) Love In An Elevator',)\n",
            "('(Hoodoo) Voodoo Medicine Man',)\n",
            "(\"(Water Song) Janie's Got A Gun\",)\n",
            "(\"Adam's Apple\",)\n",
            "(\"Ain't That A Bitch\",)\n",
            "('Amazing',)\n",
            "('Angel',)\n",
            "('Attitude Adjustment',)\n",
            "('Avant Garden',)\n",
            "('Back In The Saddle',)\n",
            "('Beyond Beautiful',)\n",
            "('Big Ten Inch Record',)\n",
            "('Blind Man',)\n",
            "('Bone To Bone (Coney Island White Fish Boy)',)\n",
            "('Boogie Man',)\n",
            "(\"Can't Stop Messin'\",)\n",
            "('Cheese Cake',)\n",
            "('Chip Away The Stone',)\n",
            "('Chiquita',)\n",
            "('Come Together',)\n",
            "('Crash',)\n",
            "('Crazy',)\n",
            "('Critical Mass',)\n",
            "(\"Cryin'\",)\n",
            "('Darkness',)\n",
            "('Deuces Are Wild',)\n",
            "(\"Don't Get Mad Get Even\",)\n",
            "('Dream On',)\n",
            "('Drop Dead Gorgeous',)\n",
            "('Dude (Looks Like A Lady)',)\n",
            "('Dude (Looks Like A Lady)- live',)\n",
            "('Eat The Rich',)\n",
            "('F.I.N.E.',)\n",
            "('Face',)\n",
            "('Fallen Angels',)\n",
            "('Falling In Love (Is Hard On The Knees)',)\n",
            "('Falling Off',)\n",
            "('Fever',)\n",
            "('Flesh',)\n",
            "('Fly Away From Here',)\n",
            "('Full Circle',)\n",
            "('Get A Grip',)\n",
            "('Girl Keeps Coming Apart',)\n",
            "('Gotta Love It',)\n",
            "('Gypsy Boots',)\n",
            "('Hangman Jury',)\n",
            "(\"Heart's Done Time\",)\n",
            "('Hole In My Soul',)\n",
            "(\"I Ain't Got You\",)\n",
            "(\"I'm Down\",)\n",
            "('Intro',)\n",
            "('Jaded',)\n",
            "('Jailbait',)\n",
            "(\"Janie's Got A Gun\",)\n",
            "('Just Push Play',)\n",
            "('Kiss Your Past Good-Bye',)\n",
            "('Last Child',)\n",
            "('Let The Music do the Talking',)\n",
            "('Lick and a Promise',)\n",
            "('Light Inside',)\n",
            "('Line Up',)\n",
            "(\"Livin' On The Edge\",)\n",
            "('Lord Of The Thighs',)\n",
            "('Love In An Elevator',)\n",
            "('Luv Lies',)\n",
            "('Magic Touch',)\n",
            "('Make It',)\n",
            "('Mama Kin',)\n",
            "('Mia',)\n",
            "('Monkey On My Back',)\n",
            "('Mother Popcorn Draw The Line',)\n",
            "(\"Movin' Out\",)\n",
            "('My Fist Your Face',)\n",
            "('My Girl',)\n",
            "('Nine Lives',)\n",
            "('No More No More',)\n",
            "('No Surprize',)\n",
            "(\"Nobody's Fault\",)\n",
            "('One Way Street',)\n",
            "('Outta Your Head',)\n",
            "(\"Pandora's Box\",)\n",
            "('Permanent Vacation',)\n",
            "('Pink',)\n",
            "('Rag Doll',)\n",
            "('Rats in the Cellar',)\n",
            "('Reefer Head Woman',)\n",
            "('Remember (Walking In The Sand)',)\n",
            "('Round And Round',)\n",
            "('S.O.S.',)\n",
            "('S.O.S. (Too Bad)',)\n",
            "('Same Old Song And Dance',)\n",
            "('Seasons Of Wither',)\n",
            "('Shame On You',)\n",
            "(\"She's On Fire\",)\n",
            "('Shela',)\n",
            "('Shut Up And Dance',)\n",
            "('Sick As A Dog',)\n",
            "('Sight For Sore Eyes',)\n",
            "('Simoriah',)\n",
            "('Somebody',)\n",
            "(\"Something's Gotta Give\",)\n",
            "('Spaced',)\n",
            "('St. John',)\n",
            "('Sunshine',)\n",
            "('Sweet Emotion',)\n",
            "('Taste Of India',)\n",
            "('The Farm',)\n",
            "('The Movie',)\n",
            "('The Other Side',)\n",
            "('The Reason A dog',)\n",
            "('The hop',)\n",
            "('Think About It',)\n",
            "('Three Mile Smile',)\n",
            "('Toys In The Attic',)\n",
            "(\"Train Kept A Rollin'\",)\n",
            "(\"Trip Hoppin'\",)\n",
            "('Uncle Salty',)\n",
            "('Under My Skin',)\n",
            "('Walk On Down',)\n",
            "('Walk On Water',)\n",
            "('Walk This Way',)\n",
            "(\"Walkin' The Dog\",)\n",
            "('What It Takes',)\n",
            "('Woman Of The World',)\n",
            "('Write Me',)\n",
            "('You See Me Crying',)\n",
            "('Young Lust',)\n"
          ]
        }
      ]
    },
    {
      "cell_type": "markdown",
      "metadata": {
        "id": "W2hD63vB-tIa"
      },
      "source": [
        "#### 9) Get the count of the songs without duplicates. \n",
        "Hint: It uses the same keyword as above question but the syntax may not be obvious."
      ]
    },
    {
      "cell_type": "code",
      "metadata": {
        "id": "7GRTrUwh-tRj",
        "colab": {
          "base_uri": "https://localhost:8080/"
        },
        "outputId": "952d7f5a-82ef-43c4-8759-0c8320e6beed"
      },
      "source": [
        "c.execute('select count(distinct s.title) from songs s, artists ar, albums al where s.album = al._id and al.artist = ar._id and ar.name = \"Aerosmith\" order by s.title asc')\n",
        "printc(c)"
      ],
      "execution_count": 49,
      "outputs": [
        {
          "output_type": "stream",
          "name": "stdout",
          "text": [
            "(128,)\n"
          ]
        }
      ]
    },
    {
      "cell_type": "markdown",
      "metadata": {
        "id": "YeBDd9rW_OX1"
      },
      "source": [
        "#### 10) Repeat the previous query to find the number of artists (which, obviously, should be one) and the number of albums."
      ]
    },
    {
      "cell_type": "code",
      "metadata": {
        "id": "DVvJBxAv_Oj4",
        "colab": {
          "base_uri": "https://localhost:8080/"
        },
        "outputId": "67b893bf-0833-4ef4-ca0c-726bf1534c3f"
      },
      "source": [
        "c.execute('select count(distinct name) from artists')\n",
        "printc(c)"
      ],
      "execution_count": 50,
      "outputs": [
        {
          "output_type": "stream",
          "name": "stdout",
          "text": [
            "(201,)\n"
          ]
        }
      ]
    },
    {
      "cell_type": "code",
      "source": [
        "c.execute('select count(distinct name) from albums')\n",
        "printc(c)"
      ],
      "metadata": {
        "colab": {
          "base_uri": "https://localhost:8080/"
        },
        "id": "8Zi20UwN0fuv",
        "outputId": "90e68315-056e-4ca2-820f-523065d05733"
      },
      "execution_count": 51,
      "outputs": [
        {
          "output_type": "stream",
          "name": "stdout",
          "text": [
            "(433,)\n"
          ]
        }
      ]
    },
    {
      "cell_type": "code",
      "source": [],
      "metadata": {
        "id": "NYOg1cFX0tKz"
      },
      "execution_count": null,
      "outputs": []
    }
  ]
}